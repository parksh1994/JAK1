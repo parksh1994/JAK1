{
 "cells": [
  {
   "cell_type": "code",
   "execution_count": 1,
   "metadata": {},
   "outputs": [],
   "source": [
    "import pandas as pd\n",
    "csv_file_name = \"JAK1_v2.csv\"\n",
    "sample_data = pd.read_csv(csv_file_name,sep=\",\")\n",
    "\n",
    "X_data = sample_data.iloc[:,1:-1]\n",
    "y_data = sample_data.iloc[:,-1:]"
   ]
  },
  {
   "cell_type": "code",
   "execution_count": 2,
   "metadata": {},
   "outputs": [
    {
     "data": {
      "text/plain": [
       "(21, 1444)"
      ]
     },
     "execution_count": 2,
     "metadata": {},
     "output_type": "execute_result"
    }
   ],
   "source": [
    "X_data.shape"
   ]
  },
  {
   "cell_type": "code",
   "execution_count": 3,
   "metadata": {},
   "outputs": [
    {
     "data": {
      "text/plain": [
       "(21, 1)"
      ]
     },
     "execution_count": 3,
     "metadata": {},
     "output_type": "execute_result"
    }
   ],
   "source": [
    "y_data.shape"
   ]
  },
  {
   "cell_type": "code",
   "execution_count": 4,
   "metadata": {},
   "outputs": [],
   "source": [
    "import pyqsar"
   ]
  },
  {
   "cell_type": "code",
   "execution_count": 5,
   "metadata": {},
   "outputs": [],
   "source": [
    "from pyqsar import data_tools as dt"
   ]
  },
  {
   "cell_type": "code",
   "execution_count": 6,
   "metadata": {},
   "outputs": [
    {
     "data": {
      "text/plain": [
       "(21, 1444)"
      ]
     },
     "execution_count": 6,
     "metadata": {},
     "output_type": "execute_result"
    }
   ],
   "source": [
    "X_data.shape"
   ]
  },
  {
   "cell_type": "code",
   "execution_count": 7,
   "metadata": {},
   "outputs": [],
   "source": [
    "X_data = dt.rm_empty_feature(X_data)"
   ]
  },
  {
   "cell_type": "code",
   "execution_count": 8,
   "metadata": {},
   "outputs": [
    {
     "data": {
      "text/plain": [
       "(21, 984)"
      ]
     },
     "execution_count": 8,
     "metadata": {},
     "output_type": "execute_result"
    }
   ],
   "source": [
    "X_data.shape"
   ]
  },
  {
   "cell_type": "code",
   "execution_count": 9,
   "metadata": {},
   "outputs": [],
   "source": [
    "X_data = dt.rmNaN(X_data)"
   ]
  },
  {
   "cell_type": "code",
   "execution_count": 10,
   "metadata": {},
   "outputs": [
    {
     "data": {
      "text/plain": [
       "(21, 984)"
      ]
     },
     "execution_count": 10,
     "metadata": {},
     "output_type": "execute_result"
    }
   ],
   "source": [
    "X_data.shape"
   ]
  },
  {
   "cell_type": "code",
   "execution_count": 11,
   "metadata": {},
   "outputs": [
    {
     "data": {
      "application/vnd.jupyter.widget-view+json": {
       "model_id": "d3e7dae532984227925843bda21a4877",
       "version_major": 2,
       "version_minor": 0
      },
      "text/plain": [
       "U2VsZWN0TXVsdGlwbGUoZGVzY3JpcHRpb249dSdTZWxlY3RlZCBGZWF0dXJlczonLCBvcHRpb25zPSgnQUxvZ1AnLCAnQUxvZ3AyJywgJ0FNUicsICdhcG9sJywgJ25BdG9tJywgJ25IZWF2eUHigKY=\n"
      ]
     },
     "metadata": {},
     "output_type": "display_data"
    },
    {
     "name": "stderr",
     "output_type": "stream",
     "text": [
      "C:\\Users\\CBBL\\Anaconda2\\lib\\site-packages\\sklearn\\preprocessing\\data.py:334: DataConversionWarning: Data with input dtype int64, float64 were all converted to float64 by MinMaxScaler.\n",
      "  return self.partial_fit(X, y)\n"
     ]
    },
    {
     "data": {
      "application/vnd.jupyter.widget-view+json": {
       "model_id": "0ccfccd0dc81412e8cca56e4964ec467",
       "version_major": 2,
       "version_minor": 0
      },
      "text/plain": [
       "Button(description=u'Get scatter matrix', style=ButtonStyle())"
      ]
     },
     "metadata": {},
     "output_type": "display_data"
    },
    {
     "data": {
      "text/plain": [
       "<pyqsar.data_tools.ScatterMatrix instance at 0x000000000F645F08>"
      ]
     },
     "execution_count": 11,
     "metadata": {},
     "output_type": "execute_result"
    }
   ],
   "source": [
    "%matplotlib inline\n",
    "dt.ScatterMatrix(X_data)"
   ]
  },
  {
   "cell_type": "code",
   "execution_count": 12,
   "metadata": {},
   "outputs": [],
   "source": [
    "from sklearn.preprocessing import MinMaxScaler\n",
    "header = list(X_data.columns.values)\n",
    "scaler = MinMaxScaler()\n",
    "X_data_scaled = scaler.fit_transform(X_data)\n",
    "X_data = pd.DataFrame(X_data_scaled, columns=header)"
   ]
  },
  {
   "cell_type": "code",
   "execution_count": 14,
   "metadata": {},
   "outputs": [
    {
     "data": {
      "text/html": [
       "<div>\n",
       "<style scoped>\n",
       "    .dataframe tbody tr th:only-of-type {\n",
       "        vertical-align: middle;\n",
       "    }\n",
       "\n",
       "    .dataframe tbody tr th {\n",
       "        vertical-align: top;\n",
       "    }\n",
       "\n",
       "    .dataframe thead th {\n",
       "        text-align: right;\n",
       "    }\n",
       "</style>\n",
       "<table border=\"1\" class=\"dataframe\">\n",
       "  <thead>\n",
       "    <tr style=\"text-align: right;\">\n",
       "      <th></th>\n",
       "      <th>ALogP</th>\n",
       "      <th>ALogp2</th>\n",
       "      <th>AMR</th>\n",
       "      <th>apol</th>\n",
       "      <th>nAtom</th>\n",
       "      <th>nHeavyAtom</th>\n",
       "      <th>nH</th>\n",
       "      <th>nC</th>\n",
       "      <th>nN</th>\n",
       "      <th>nO</th>\n",
       "      <th>...</th>\n",
       "      <th>AMW</th>\n",
       "      <th>WTPT-1</th>\n",
       "      <th>WTPT-2</th>\n",
       "      <th>WTPT-3</th>\n",
       "      <th>WTPT-4</th>\n",
       "      <th>WTPT-5</th>\n",
       "      <th>WPATH</th>\n",
       "      <th>WPOL</th>\n",
       "      <th>XLogP</th>\n",
       "      <th>Zagreb</th>\n",
       "    </tr>\n",
       "  </thead>\n",
       "  <tbody>\n",
       "    <tr>\n",
       "      <th>0</th>\n",
       "      <td>0.034873</td>\n",
       "      <td>0.952379</td>\n",
       "      <td>0.009230</td>\n",
       "      <td>0.461636</td>\n",
       "      <td>0.5</td>\n",
       "      <td>0.333333</td>\n",
       "      <td>0.6</td>\n",
       "      <td>0.666667</td>\n",
       "      <td>0.0</td>\n",
       "      <td>0.0</td>\n",
       "      <td>...</td>\n",
       "      <td>0.106564</td>\n",
       "      <td>0.442353</td>\n",
       "      <td>1.000000</td>\n",
       "      <td>0.045751</td>\n",
       "      <td>0.024396</td>\n",
       "      <td>0.149783</td>\n",
       "      <td>0.207977</td>\n",
       "      <td>0.428571</td>\n",
       "      <td>1.000000</td>\n",
       "      <td>0.545455</td>\n",
       "    </tr>\n",
       "    <tr>\n",
       "      <th>1</th>\n",
       "      <td>0.535950</td>\n",
       "      <td>0.369846</td>\n",
       "      <td>0.648332</td>\n",
       "      <td>0.670759</td>\n",
       "      <td>0.5</td>\n",
       "      <td>0.666667</td>\n",
       "      <td>0.4</td>\n",
       "      <td>0.666667</td>\n",
       "      <td>0.0</td>\n",
       "      <td>0.0</td>\n",
       "      <td>...</td>\n",
       "      <td>0.810461</td>\n",
       "      <td>0.709257</td>\n",
       "      <td>0.795990</td>\n",
       "      <td>0.909839</td>\n",
       "      <td>0.024396</td>\n",
       "      <td>0.150110</td>\n",
       "      <td>0.549858</td>\n",
       "      <td>0.714286</td>\n",
       "      <td>0.686880</td>\n",
       "      <td>0.818182</td>\n",
       "    </tr>\n",
       "    <tr>\n",
       "      <th>2</th>\n",
       "      <td>0.535950</td>\n",
       "      <td>0.369846</td>\n",
       "      <td>0.648332</td>\n",
       "      <td>0.670759</td>\n",
       "      <td>0.5</td>\n",
       "      <td>0.666667</td>\n",
       "      <td>0.4</td>\n",
       "      <td>0.666667</td>\n",
       "      <td>0.0</td>\n",
       "      <td>0.0</td>\n",
       "      <td>...</td>\n",
       "      <td>0.810461</td>\n",
       "      <td>0.709333</td>\n",
       "      <td>0.796456</td>\n",
       "      <td>0.908088</td>\n",
       "      <td>0.024396</td>\n",
       "      <td>0.150250</td>\n",
       "      <td>0.582621</td>\n",
       "      <td>0.714286</td>\n",
       "      <td>0.686880</td>\n",
       "      <td>0.818182</td>\n",
       "    </tr>\n",
       "    <tr>\n",
       "      <th>3</th>\n",
       "      <td>0.000000</td>\n",
       "      <td>1.000000</td>\n",
       "      <td>0.841829</td>\n",
       "      <td>1.000000</td>\n",
       "      <td>1.0</td>\n",
       "      <td>1.000000</td>\n",
       "      <td>1.0</td>\n",
       "      <td>1.000000</td>\n",
       "      <td>0.0</td>\n",
       "      <td>1.0</td>\n",
       "      <td>...</td>\n",
       "      <td>0.149297</td>\n",
       "      <td>1.000000</td>\n",
       "      <td>0.745661</td>\n",
       "      <td>1.000000</td>\n",
       "      <td>1.000000</td>\n",
       "      <td>0.151613</td>\n",
       "      <td>0.934473</td>\n",
       "      <td>1.000000</td>\n",
       "      <td>0.372012</td>\n",
       "      <td>1.000000</td>\n",
       "    </tr>\n",
       "    <tr>\n",
       "      <th>4</th>\n",
       "      <td>0.000000</td>\n",
       "      <td>1.000000</td>\n",
       "      <td>0.841829</td>\n",
       "      <td>1.000000</td>\n",
       "      <td>1.0</td>\n",
       "      <td>1.000000</td>\n",
       "      <td>1.0</td>\n",
       "      <td>1.000000</td>\n",
       "      <td>0.0</td>\n",
       "      <td>1.0</td>\n",
       "      <td>...</td>\n",
       "      <td>0.149297</td>\n",
       "      <td>0.999912</td>\n",
       "      <td>0.745143</td>\n",
       "      <td>0.998503</td>\n",
       "      <td>0.998631</td>\n",
       "      <td>0.151452</td>\n",
       "      <td>1.000000</td>\n",
       "      <td>1.000000</td>\n",
       "      <td>0.372012</td>\n",
       "      <td>1.000000</td>\n",
       "    </tr>\n",
       "  </tbody>\n",
       "</table>\n",
       "<p>5 rows × 984 columns</p>\n",
       "</div>"
      ],
      "text/plain": [
       "      ALogP    ALogp2       AMR      apol  nAtom  nHeavyAtom   nH        nC  \\\n",
       "0  0.034873  0.952379  0.009230  0.461636    0.5    0.333333  0.6  0.666667   \n",
       "1  0.535950  0.369846  0.648332  0.670759    0.5    0.666667  0.4  0.666667   \n",
       "2  0.535950  0.369846  0.648332  0.670759    0.5    0.666667  0.4  0.666667   \n",
       "3  0.000000  1.000000  0.841829  1.000000    1.0    1.000000  1.0  1.000000   \n",
       "4  0.000000  1.000000  0.841829  1.000000    1.0    1.000000  1.0  1.000000   \n",
       "\n",
       "    nN   nO  ...       AMW    WTPT-1    WTPT-2    WTPT-3    WTPT-4    WTPT-5  \\\n",
       "0  0.0  0.0  ...  0.106564  0.442353  1.000000  0.045751  0.024396  0.149783   \n",
       "1  0.0  0.0  ...  0.810461  0.709257  0.795990  0.909839  0.024396  0.150110   \n",
       "2  0.0  0.0  ...  0.810461  0.709333  0.796456  0.908088  0.024396  0.150250   \n",
       "3  0.0  1.0  ...  0.149297  1.000000  0.745661  1.000000  1.000000  0.151613   \n",
       "4  0.0  1.0  ...  0.149297  0.999912  0.745143  0.998503  0.998631  0.151452   \n",
       "\n",
       "      WPATH      WPOL     XLogP    Zagreb  \n",
       "0  0.207977  0.428571  1.000000  0.545455  \n",
       "1  0.549858  0.714286  0.686880  0.818182  \n",
       "2  0.582621  0.714286  0.686880  0.818182  \n",
       "3  0.934473  1.000000  0.372012  1.000000  \n",
       "4  1.000000  1.000000  0.372012  1.000000  \n",
       "\n",
       "[5 rows x 984 columns]"
      ]
     },
     "execution_count": 14,
     "metadata": {},
     "output_type": "execute_result"
    }
   ],
   "source": [
    "X_data.head()"
   ]
  },
  {
   "cell_type": "code",
   "execution_count": 16,
   "metadata": {},
   "outputs": [
    {
     "name": "stdout",
     "output_type": "stream",
     "text": [
      "average linkage cophenet: 0.7408095784804193\n",
      "complete linkage cophenet: 0.6912513514263353\n",
      "single linkage cophenet: 0.1902375254159036\n"
     ]
    }
   ],
   "source": [
    "from pyqsar import clustering as cl\n",
    "cl.cophenetic(X_data)"
   ]
  },
  {
   "cell_type": "code",
   "execution_count": 17,
   "metadata": {},
   "outputs": [
    {
     "name": "stdout",
     "output_type": "stream",
     "text": [
      "\n",
      "\u001b[1;46mCluster\u001b[0m 1 ['Sp', 'Sv', 'ATS4e', 'ATS4i', 'ATS4v', 'ATS4p', 'apol', 'ATS2e', 'HybRatio'] \n",
      "\u001b[1;46mCluster\u001b[0m 2 ['ATS6p'] \n",
      "\u001b[1;46mCluster\u001b[0m 3 ['ATS0v', 'ETA_Eta_R_L', 'SP-1', 'WTPT-1', 'ETA_Beta_s', 'VAdjMat', 'WPOL', 'nHeavyAtom', 'nC'] \n",
      "\u001b[1;46mCluster\u001b[0m 4 ['SpMax8_Bhv'] \n",
      "\u001b[1;46mCluster\u001b[0m 5 ['VR3_Dt'] \n",
      "\u001b[1;46mCluster\u001b[0m 6 ['ETA_Eta'] \n",
      "\u001b[1;46mCluster\u001b[0m 7 ['MLogP'] \n",
      "\u001b[1;46mCluster\u001b[0m 8 ['piPC4', 'piPC3', 'piPC1', 'piPC7', 'piPC6', 'piPC5', 'piPC2'] \n",
      "\u001b[1;46mCluster\u001b[0m 9 ['SP-2', 'SPC-4'] \n",
      "\u001b[1;46mCluster\u001b[0m 10 ['MLFER_L'] \n",
      "\u001b[1;46mCluster\u001b[0m 11 ['SpMax5_Bhi', 'SpMax5_Bhe'] \n",
      "\u001b[1;46mCluster\u001b[0m 12 ['SRW2', 'SP-3', 'nBonds', 'ATS1v', 'ATS3i', 'nBondsS3', 'ATS3e', 'TWC', 'ATS1p', 'ETA_Eta_L'] \n",
      "\u001b[1;46mCluster\u001b[0m 13 ['VP-1'] \n",
      "\u001b[1;46mCluster\u001b[0m 14 ['SpMax8_Bhp', 'ATS7p', 'ATS7v', 'ATS8p', 'ATS8v', 'ATS6v'] \n",
      "\u001b[1;46mCluster\u001b[0m 15 ['ATS0p', 'ATS5m'] \n",
      "\u001b[1;46mCluster\u001b[0m 16 ['ETA_Alpha'] \n",
      "\u001b[1;46mCluster\u001b[0m 17 ['MATS4i', 'ATSC4i', 'AATSC4i'] \n",
      "\u001b[1;46mCluster\u001b[0m 18 ['VE2_DzZ', 'VE2_Dzm', 'VE3_DzZ', 'VE3_Dzm'] \n",
      "\u001b[1;46mCluster\u001b[0m 19 ['VE2_Dzi', 'VE2_Dze', 'VE3_Dzi', 'VE3_Dze'] \n",
      "\u001b[1;46mCluster\u001b[0m 20 ['GATS3c'] \n",
      "\u001b[1;46mCluster\u001b[0m 21 ['VR3_Dzi'] \n",
      "\u001b[1;46mCluster\u001b[0m 22 ['AATSC6p', 'MATS6p', 'ATSC6p'] \n",
      "\u001b[1;46mCluster\u001b[0m 23 ['GATS6v'] \n",
      "\u001b[1;46mCluster\u001b[0m 24 ['minsCH3'] \n",
      "\u001b[1;46mCluster\u001b[0m 25 ['AATSC7m', 'ATSC7m'] \n",
      "\u001b[1;46mCluster\u001b[0m 26 ['AATSC6v', 'MATS6v'] \n",
      "\u001b[1;46mCluster\u001b[0m 27 ['ATSC6v'] \n",
      "\u001b[1;46mCluster\u001b[0m 28 ['VR2_Dt', 'VR1_Dt'] \n",
      "\u001b[1;46mCluster\u001b[0m 29 ['GGI3'] \n",
      "\u001b[1;46mCluster\u001b[0m 30 ['JGI7'] \n",
      "\u001b[1;46mCluster\u001b[0m 31 ['VE1_DzZ', 'VE1_Dzm'] \n",
      "\u001b[1;46mCluster\u001b[0m 32 ['MATS7p', 'ATSC7p', 'AATSC7p'] \n",
      "\u001b[1;46mCluster\u001b[0m 33 ['VE3_D', 'VE2_D'] \n",
      "\u001b[1;46mCluster\u001b[0m 34 ['VE1_Dze', 'VE1_Dzi'] \n",
      "\u001b[1;46mCluster\u001b[0m 35 ['JGI2'] \n",
      "\u001b[1;46mCluster\u001b[0m 36 ['MATS7i', 'ATSC7i', 'AATSC7i'] \n",
      "\u001b[1;46mCluster\u001b[0m 37 ['MATS7v', 'AATSC7v', 'ATSC7v', 'GATS7v'] \n",
      "\u001b[1;46mCluster\u001b[0m 38 ['GATS7i'] \n",
      "\u001b[1;46mCluster\u001b[0m 39 ['VE1_D'] \n",
      "\u001b[1;46mCluster\u001b[0m 40 ['SpMax2_Bhv', 'VE2_Dzv', 'VE3_Dzv'] \n",
      "\u001b[1;46mCluster\u001b[0m 41 ['AATS8v'] \n",
      "\u001b[1;46mCluster\u001b[0m 42 ['SpMax5_Bhp', 'SpMax4_Bhs', 'SpMax5_Bhv'] \n",
      "\u001b[1;46mCluster\u001b[0m 43 ['GATS3s'] \n",
      "\u001b[1;46mCluster\u001b[0m 44 ['ATS7m', 'ATS6m'] \n",
      "\u001b[1;46mCluster\u001b[0m 45 ['ATS1m'] \n",
      "\u001b[1;46mCluster\u001b[0m 46 ['ATS3m'] \n",
      "\u001b[1;46mCluster\u001b[0m 47 ['ATS8m'] \n",
      "\u001b[1;46mCluster\u001b[0m 48 ['VC-5', 'C1SP3', 'nssCH2', 'ASP-0', 'ASP-6', 'ASP-7', 'ASP-4', 'SpMin3_Bhe', 'nTRing', 'SpMax3_Bhv', 'nF7Ring', 'SpMax3_Bhp', 'SpMin4_Bhi', 'SCH-5', 'SCH-6', 'SCH-7', 'SpMin4_Bhv', 'SpMin4_Bhs', 'SRW7', 'SpMin3_Bhm', 'SpMin4_Bhe', 'VP-5', 'VP-4', 'VP-7', 'VP-6', 'VCH-5', 'VCH-7', 'VCH-6', 'n5Ring', 'SIC2', 'SssCH2', 'SpMin1_Bhv', 'nsssCH', 'nHCsats', 'MDEC-33', 'maxssCH2', 'nFRing', 'R_TpiPCTPC', 'SRW9', 'SpMin3_Bhi', 'nT7Ring', 'nT5HeteroRing', 'C2SP3', 'CIC2', 'SpMin4_Bhm', 'n5HeteroRing', 'VPC-6', 'VPC-5', 'nRing', 'ASP-5', 'SsssCH', 'BIC2', 'SRW5', 'WTPT-2', 'nT5Ring', 'nHeteroRing'] \n",
      "\u001b[1;46mCluster\u001b[0m 49 ['JGI5', 'VE3_Dt', 'VE2_Dt', 'maxHBint4', 'VE1_Dt'] \n",
      "\u001b[1;46mCluster\u001b[0m 50 ['ETA_EtaP_L'] \n",
      "\u001b[1;46mCluster\u001b[0m 51 ['VP-2', 'ATS2m', 'VPC-4'] \n",
      "\u001b[1;46mCluster\u001b[0m 52 ['AATS7v'] \n",
      "\u001b[1;46mCluster\u001b[0m 53 ['AATS6e'] \n",
      "\u001b[1;46mCluster\u001b[0m 54 ['AATS1i'] \n",
      "\u001b[1;46mCluster\u001b[0m 55 ['ATSC8i', 'AATSC8i', 'MATS8i'] \n",
      "\u001b[1;46mCluster\u001b[0m 56 ['GATS8i', 'AATS8i'] \n",
      "\u001b[1;46mCluster\u001b[0m 57 ['JGI4'] \n",
      "\u001b[1;46mCluster\u001b[0m 58 ['MATS3i', 'ETA_BetaP_s', 'AATSC3i'] \n",
      "\u001b[1;46mCluster\u001b[0m 59 ['ZMIC1', 'minHBd', 'minHssNH'] \n",
      "\u001b[1;46mCluster\u001b[0m 60 ['SpMax1_Bhp', 'SpMax1_Bhv', 'SpMax1_Bhe', 'SpMax1_Bhi', 'SpMin6_Bhe', 'SpMin6_Bhv', 'SpMin5_Bhp', 'SpMin5_Bhm', 'SpMin5_Bhi', 'SpMin5_Bhe'] \n",
      "\u001b[1;46mCluster\u001b[0m 61 ['SpMax3_Bhe', 'SpMax3_Bhi', 'MPC6', 'TPC', 'VP-3', 'piPC10', 'SP-6', 'SP-4', 'SpMin6_Bhi', 'SpMin6_Bhp', 'SpMax2_Bhe', 'SpMAD_Dt', 'SpMax2_Bhi', 'MWC10', 'MPC7', 'MPC10', 'MPC4', 'MPC5', 'MWC8', 'fragC', 'MWC9', 'MWC7', 'MWC6', 'MPC8', 'MPC9', 'MDEC-23', 'SPC-6', 'SPC-5', 'TSRW', 'SHCsats', 'SRW10'] \n",
      "\u001b[1;46mCluster\u001b[0m 62 ['EE_Dt', 'ASP-2', 'SRW6', 'Zagreb', 'SRW4', 'SRW8', 'MPC2', 'MPC3', 'SP-7', 'SP-5', 'piPC8', 'SpAD_Dt', 'ATS2v', 'ATS2p', 'TpiPC', 'SpMax_Dt', 'MWC5', 'MWC4', 'MWC3', 'MWC2', 'SpDiam_Dt', 'piPC9', 'ATS3v', 'ATS3p'] \n",
      "\u001b[1;46mCluster\u001b[0m 63 ['GATS3e'] \n",
      "\u001b[1;46mCluster\u001b[0m 64 ['AATSC2m', 'MDEC-22', 'ATSC2m'] \n",
      "\u001b[1;46mCluster\u001b[0m 65 ['ETA_Shape_P'] \n",
      "\u001b[1;46mCluster\u001b[0m 66 ['AATSC6m', 'JGI9', 'ATSC6m'] \n",
      "\u001b[1;46mCluster\u001b[0m 67 ['AATSC5m', 'ATSC5m'] \n",
      "\u001b[1;46mCluster\u001b[0m 68 ['JGI8', 'MATS5m'] \n",
      "\u001b[1;46mCluster\u001b[0m 69 ['CIC5', 'CIC4', 'CIC3', 'BIC3', 'BIC4', 'SIC5', 'SIC4', 'SIC3', 'JGI6', 'BIC5'] \n",
      "\u001b[1;46mCluster\u001b[0m 70 ['SpMax8_Bhm'] \n",
      "\u001b[1;46mCluster\u001b[0m 71 ['minsssCH'] \n",
      "\u001b[1;46mCluster\u001b[0m 72 ['ETA_EtaP_F_L'] \n",
      "\u001b[1;46mCluster\u001b[0m 73 ['SpMin1_Bhe'] \n",
      "\u001b[1;46mCluster\u001b[0m 74 ['SpMin6_Bhs'] \n",
      "\u001b[1;46mCluster\u001b[0m 75 ['SpMin1_Bhi'] \n",
      "\u001b[1;46mCluster\u001b[0m 76 ['GGI4'] \n",
      "\u001b[1;46mCluster\u001b[0m 77 ['AATS5m', 'AATS5p'] \n",
      "\u001b[1;46mCluster\u001b[0m 78 ['AATS5v'] \n",
      "\u001b[1;46mCluster\u001b[0m 79 ['AATS7p'] \n",
      "\u001b[1;46mCluster\u001b[0m 80 ['AATS8p'] \n",
      "\u001b[1;46mCluster\u001b[0m 81 ['SpMax2_Bhp'] \n",
      "\u001b[1;46mCluster\u001b[0m 82 ['VE2_Dzp', 'VE3_Dzp'] \n",
      "\u001b[1;46mCluster\u001b[0m 83 ['VE1_Dzv'] \n",
      "\u001b[1;46mCluster\u001b[0m 84 ['SpMax1_Bhs', 'SpMin5_Bhs'] \n",
      "\u001b[1;46mCluster\u001b[0m 85 ['SpMax7_Bhs'] \n",
      "\u001b[1;46mCluster\u001b[0m 86 ['ETA_Shape_Y'] \n",
      "\u001b[1;46mCluster\u001b[0m 87 ['AATSC5i', 'MATS5i', 'ATSC5i', 'GATS5i'] \n",
      "\u001b[1;46mCluster\u001b[0m 88 ['AATS6i'] \n",
      "\u001b[1;46mCluster\u001b[0m 89 ['AATS8m'] \n",
      "\u001b[1;46mCluster\u001b[0m 90 ['ZMIC4', 'ZMIC5', 'ZMIC3'] \n",
      "\u001b[1;46mCluster\u001b[0m 91 ['ZMIC2', 'IC2', 'IC4', 'IC3', 'IC5'] \n",
      "\u001b[1;46mCluster\u001b[0m 92 ['AATS6v', 'AATS6p', 'MLFER_E'] \n",
      "\u001b[1;46mCluster\u001b[0m 93 ['SsssN', 'SpMin3_Bhp', 'maxsssN', 'AVP-7', 'minsssN', 'AVP-5', 'AVP-6', 'maxsssCH'] \n",
      "\u001b[1;46mCluster\u001b[0m 94 ['SpMax3_Bhm', 'SpMin1_Bhm', 'SpMin3_Bhv', 'hmin', 'SpMin1_Bhp', 'SpMin1_Bhs', 'ETA_Epsilon_3'] \n",
      "\u001b[1;46mCluster\u001b[0m 95 ['minHBint8', 'ASP-1', 'Kier3'] \n",
      "\u001b[1;46mCluster\u001b[0m 96 ['ASP-3'] \n",
      "\u001b[1;46mCluster\u001b[0m 97 ['SpMin3_Bhs', 'SpMin2_Bhs'] \n",
      "\u001b[1;46mCluster\u001b[0m 98 ['maxsCH3', 'GATS5p'] \n",
      "\u001b[1;46mCluster\u001b[0m 99 ['AATSC5v', 'AATSC5p', 'MATS5v', 'MATS5p', 'ATSC5v', 'ATSC5p', 'GATS5v'] \n",
      "\u001b[1;46mCluster\u001b[0m 100 ['MATS2m'] \n",
      "\u001b[1;46mCluster\u001b[0m 101 ['GATS3i'] \n",
      "\u001b[1;46mCluster\u001b[0m 102 ['RotBtFrac'] \n",
      "\u001b[1;46mCluster\u001b[0m 103 ['ATSC8c'] \n",
      "\u001b[1;46mCluster\u001b[0m 104 ['GATS2v'] \n",
      "\u001b[1;46mCluster\u001b[0m 105 ['AATSC6e', 'MATS6e', 'ATSC6e'] \n",
      "\u001b[1;46mCluster\u001b[0m 106 ['MATS3e', 'AATSC3e'] \n",
      "\u001b[1;46mCluster\u001b[0m 107 ['ATSC3e'] \n",
      "\u001b[1;46mCluster\u001b[0m 108 ['AATSC6s', 'ATSC6s'] \n",
      "\u001b[1;46mCluster\u001b[0m 109 ['ATSC3s', 'AATSC3s', 'MATS1s', 'ATSC1s', 'GATS1s', 'AATSC1s'] \n",
      "\u001b[1;46mCluster\u001b[0m 110 ['GGI9'] \n",
      "\u001b[1;46mCluster\u001b[0m 111 ['minHBint4', 'SpMax1_Bhm', 'MATS6s', 'SpMin5_Bhv'] \n",
      "\u001b[1;46mCluster\u001b[0m 112 ['maxaaNH', 'SaaNH', 'minaaNH'] \n",
      "\u001b[1;46mCluster\u001b[0m 113 ['maxssNH', 'maxHaaNH', 'minHaaNH', 'SHaaNH'] \n",
      "\u001b[1;46mCluster\u001b[0m 114 ['AATS7i'] \n",
      "\u001b[1;46mCluster\u001b[0m 115 ['AATSC6i', 'MATS6i', 'ATSC6i'] \n",
      "\u001b[1;46mCluster\u001b[0m 116 ['minaaaC', 'AATS2s', 'maxHother', 'SaaaC', 'hmax', 'maxaaaC', 'maxHaaCH'] \n",
      "\u001b[1;46mCluster\u001b[0m 117 ['GATS6c'] \n",
      "\u001b[1;46mCluster\u001b[0m 118 ['AATS7s'] \n",
      "\u001b[1;46mCluster\u001b[0m 119 ['BIC1', 'SIC1', 'CIC1'] \n",
      "\u001b[1;46mCluster\u001b[0m 120 ['MATS3p'] \n",
      "\u001b[1;46mCluster\u001b[0m 121 ['ATSC3m', 'AATSC3m'] \n",
      "\u001b[1;46mCluster\u001b[0m 122 ['MATS3v', 'AATSC3v', 'MATS1e'] \n",
      "\u001b[1;46mCluster\u001b[0m 123 ['MATS3m', 'ATSC1e', 'AATSC1e'] \n",
      "\u001b[1;46mCluster\u001b[0m 124 ['ATSC3v', 'maxHBint6', 'SHBint8'] \n",
      "\u001b[1;46mCluster\u001b[0m 125 ['MATS4s', 'ATSC3c', 'ATSC4s', 'maxHBint8', 'AATSC4s', 'SpMin7_Bhs'] \n",
      "\u001b[1;46mCluster\u001b[0m 126 ['ATSC4e'] \n",
      "\u001b[1;46mCluster\u001b[0m 127 ['AATSC4e'] \n",
      "\u001b[1;46mCluster\u001b[0m 128 ['AATSC7c'] \n",
      "\u001b[1;46mCluster\u001b[0m 129 ['GATS4e'] \n",
      "\u001b[1;46mCluster\u001b[0m 130 ['GATS4s', 'AATSC7s', 'MDEN-12'] \n",
      "\u001b[1;46mCluster\u001b[0m 131 ['minaaCH', 'minaasC', 'AATSC1c'] \n",
      "\u001b[1;46mCluster\u001b[0m 132 ['maxaaN', 'SHBd', 'BCUTp-1h', 'SaaN', 'minaaN', 'SHBint4'] \n",
      "\u001b[1;46mCluster\u001b[0m 133 ['MATS3s'] \n",
      "\u001b[1;46mCluster\u001b[0m 134 ['nHBDon_Lipinski', 'minHBint2', 'minHBint6', 'SHsNH2', 'nHssNH', 'mindssC', 'gmax', 'maxHssNH', 'SpMin4_Bhp', 'SpMax4_Bhv', 'AATSC2s', 'maxHsNH2', 'SpMax7_Bhv', 'SpMax4_Bhe', 'maxHBa', 'MATS2s', 'SpMin6_Bhm', 'nHsNH2', 'minwHBa', 'nAtomLC', 'minssNH', 'SpMax7_Bhp', 'minsNH2', 'MDEN-22', 'SpMax4_Bhp', 'SpMax4_Bhm', 'MAXDP2', 'SpMax4_Bhi', 'maxHBd', 'ATSC2s', 'SHssNH', 'gmin', 'mindO', 'MAXDN', 'SdO', 'ETA_dEpsilon_D', 'SsNH2', 'MAXDP', 'nsNH2', 'maxdO', 'MAXDN2', 'SdssC', 'BCUTc-1h', 'SssNH', 'minHsNH2', 'maxsNH2', 'maxHBint2', 'nssNH', 'MDEN-23', 'MLFER_A', 'SHBint2', 'SHBint6'] \n",
      "\u001b[1;46mCluster\u001b[0m 135 ['AATSC3c'] \n",
      "\u001b[1;46mCluster\u001b[0m 136 ['Mare'] \n",
      "\u001b[1;46mCluster\u001b[0m 137 ['DELS2'] \n",
      "\u001b[1;46mCluster\u001b[0m 138 ['ATSC1c'] \n",
      "\u001b[1;46mCluster\u001b[0m 139 ['GATS3v'] \n",
      "\u001b[1;46mCluster\u001b[0m 140 ['MATS6c', 'AATSC6c'] \n",
      "\u001b[1;46mCluster\u001b[0m 141 ['ATSC6c'] \n",
      "\u001b[1;46mCluster\u001b[0m 142 ['ATSC7c'] \n",
      "\u001b[1;46mCluster\u001b[0m 143 ['GATS6i'] \n",
      "\u001b[1;46mCluster\u001b[0m 144 ['VR1_Dzi', 'VR2_Dzi'] \n",
      "\u001b[1;46mCluster\u001b[0m 145 ['ATSC7s'] \n",
      "\u001b[1;46mCluster\u001b[0m 146 ['GATS4c'] \n",
      "\u001b[1;46mCluster\u001b[0m 147 ['AATS5i'] \n",
      "\u001b[1;46mCluster\u001b[0m 148 ['ETA_BetaP_ns_d', 'ETA_Beta_ns_d', 'nHBa'] \n",
      "\u001b[1;46mCluster\u001b[0m 149 ['AATS8e'] \n",
      "\u001b[1;46mCluster\u001b[0m 150 ['AATS1e'] \n",
      "\u001b[1;46mCluster\u001b[0m 151 ['AATSC0e'] \n",
      "\u001b[1;46mCluster\u001b[0m 152 ['AATS3e'] \n",
      "\u001b[1;46mCluster\u001b[0m 153 ['ETA_Epsilon_2'] \n",
      "\u001b[1;46mCluster\u001b[0m 154 ['GATS6e'] \n",
      "\u001b[1;46mCluster\u001b[0m 155 ['MATS8e', 'ATSC8e', 'AATSC8e'] \n",
      "\u001b[1;46mCluster\u001b[0m 156 ['GATS8e'] \n",
      "\u001b[1;46mCluster\u001b[0m 157 ['AATS4v'] \n",
      "\u001b[1;46mCluster\u001b[0m 158 ['GGI6'] \n",
      "\u001b[1;46mCluster\u001b[0m 159 ['nHBint9', 'ATSC7e'] \n",
      "\u001b[1;46mCluster\u001b[0m 160 ['AATS7e'] \n",
      "\u001b[1;46mCluster\u001b[0m 161 ['AATSC7e'] \n",
      "\u001b[1;46mCluster\u001b[0m 162 ['ATSC8m', 'MATS8m', 'AATSC8m'] \n",
      "\u001b[1;46mCluster\u001b[0m 163 ['GATS8m'] \n",
      "\u001b[1;46mCluster\u001b[0m 164 ['GATS2p'] \n",
      "\u001b[1;46mCluster\u001b[0m 165 ['AVP-0'] \n",
      "\u001b[1;46mCluster\u001b[0m 166 ['JGI1'] \n",
      "\u001b[1;46mCluster\u001b[0m 167 ['JGT'] \n",
      "\u001b[1;46mCluster\u001b[0m 168 ['IC1'] \n",
      "\u001b[1;46mCluster\u001b[0m 169 ['AATS3v'] \n",
      "\u001b[1;46mCluster\u001b[0m 170 ['ALogP', 'ALogp2'] \n",
      "\u001b[1;46mCluster\u001b[0m 171 ['ETA_EtaP_B', 'ETA_Eta_B'] \n",
      "\u001b[1;46mCluster\u001b[0m 172 ['MATS6m'] \n",
      "\u001b[1;46mCluster\u001b[0m 173 ['GATS7s'] \n",
      "\u001b[1;46mCluster\u001b[0m 174 ['SpMax3_Bhs'] \n",
      "\u001b[1;46mCluster\u001b[0m 175 ['ETA_Beta', 'SpMin7_Bhi', 'SpMin7_Bhe'] \n",
      "\u001b[1;46mCluster\u001b[0m 176 ['MLFER_S'] \n",
      "\u001b[1;46mCluster\u001b[0m 177 ['AATS1s', 'meanI'] \n",
      "\u001b[1;46mCluster\u001b[0m 178 ['GATS6s'] \n",
      "\u001b[1;46mCluster\u001b[0m 179 ['AATSC0s', 'AATS0s'] \n",
      "\u001b[1;46mCluster\u001b[0m 180 ['AATS5s'] \n",
      "\u001b[1;46mCluster\u001b[0m 181 ['AATS8s'] \n",
      "\u001b[1;46mCluster\u001b[0m 182 ['TopoPSA'] \n",
      "\u001b[1;46mCluster\u001b[0m 183 ['SpMin2_Bhe', 'SpMin2_Bhi'] \n",
      "\u001b[1;46mCluster\u001b[0m 184 ['SpMax6_Bhp'] \n",
      "\u001b[1;46mCluster\u001b[0m 185 ['nwHBa', 'maxtsC', 'StsC', 'maxtN', 'StN', 'nHBAcc', 'ntN', 'C3SP2', 'ETA_Beta_ns', 'mintN', 'SpMax2_Bhs', 'C2SP2', 'nBondsM', 'ntsC', 'WTPT-5', 'nBondsT', 'mintsC', 'C1SP1', 'nN'] \n",
      "\u001b[1;46mCluster\u001b[0m 186 ['SpMax5_Bhs'] \n",
      "\u001b[1;46mCluster\u001b[0m 187 ['ATSC0s', 'BCUTp-1l'] \n",
      "\u001b[1;46mCluster\u001b[0m 188 ['SpMax6_Bhv'] \n",
      "\u001b[1;46mCluster\u001b[0m 189 ['ATS0s'] \n",
      "\u001b[1;46mCluster\u001b[0m 190 ['DELS'] \n",
      "\u001b[1;46mCluster\u001b[0m 191 ['GATS5s'] \n",
      "\u001b[1;46mCluster\u001b[0m 192 ['MATS4m', 'ATSC4m', 'AATSC4m'] \n",
      "\u001b[1;46mCluster\u001b[0m 193 ['MATS7e', 'GGI7'] \n",
      "\u001b[1;46mCluster\u001b[0m 194 ['GGI2'] \n",
      "\u001b[1;46mCluster\u001b[0m 195 ['GATS7e'] \n",
      "\u001b[1;46mCluster\u001b[0m 196 ['GATS7c'] \n",
      "\u001b[1;46mCluster\u001b[0m 197 ['GGI10'] \n",
      "\u001b[1;46mCluster\u001b[0m 198 ['JGI3'] \n",
      "\u001b[1;46mCluster\u001b[0m 199 ['ATSC0p'] \n",
      "\u001b[1;46mCluster\u001b[0m 200 ['ETA_EtaP'] \n",
      "\u001b[1;46mCluster\u001b[0m 201 ['VR3_Dzs'] \n",
      "\u001b[1;46mCluster\u001b[0m 202 ['SpMax7_Bhm'] \n",
      "\u001b[1;46mCluster\u001b[0m 203 ['ATS4m'] \n",
      "\u001b[1;46mCluster\u001b[0m 204 ['MW'] \n",
      "\u001b[1;46mCluster\u001b[0m 205 ['MATS4v', 'ATSC4v', 'AATSC4v'] \n",
      "\u001b[1;46mCluster\u001b[0m 206 ['GATS4p', 'GATS4v'] \n",
      "\u001b[1;46mCluster\u001b[0m 207 ['MATS4p', 'ATSC4p', 'AATSC4p'] \n",
      "\u001b[1;46mCluster\u001b[0m 208 ['GATS4i'] \n",
      "\u001b[1;46mCluster\u001b[0m 209 ['MATS8s', 'ATSC8s', 'AATSC8s'] \n",
      "\u001b[1;46mCluster\u001b[0m 210 ['VR2_Dze', 'VR1_Dze'] \n",
      "\u001b[1;46mCluster\u001b[0m 211 ['VR3_Dzm', 'VR3_Dze', 'VR3_DzZ', 'VR1_DzZ', 'VR2_DzZ', 'VR2_Dzm', 'VR1_Dzm'] \n",
      "\u001b[1;46mCluster\u001b[0m 212 ['GGI8'] \n",
      "\u001b[1;46mCluster\u001b[0m 213 ['SM1_Dzi', 'SaaCH'] \n",
      "\u001b[1;46mCluster\u001b[0m 214 ['GGI1', 'naaCH', 'nHaaCH', 'naasC', 'nHother'] \n",
      "\u001b[1;46mCluster\u001b[0m 215 ['WTPT-3'] \n",
      "\u001b[1;46mCluster\u001b[0m 216 ['SM1_Dze'] \n",
      "\u001b[1;46mCluster\u001b[0m 217 ['VR1_Dzs', 'VR2_Dzs'] \n",
      "\u001b[1;46mCluster\u001b[0m 218 ['GATS6p'] \n",
      "\u001b[1;46mCluster\u001b[0m 219 ['topoShape', 'PetitjeanNumber'] \n",
      "\u001b[1;46mCluster\u001b[0m 220 ['BCUTw-1l'] \n",
      "\u001b[1;46mCluster\u001b[0m 221 ['maxHBint10', 'minHBint10', 'SHBint10'] \n",
      "\u001b[1;46mCluster\u001b[0m 222 ['GATS5e'] \n",
      "\u001b[1;46mCluster\u001b[0m 223 ['AATS5e'] \n",
      "\u001b[1;46mCluster\u001b[0m 224 ['MATS8v', 'ATSC8v', 'AATSC8v'] \n",
      "\u001b[1;46mCluster\u001b[0m 225 ['MATS8p', 'ATSC8p', 'GATS8v', 'AATSC8p'] \n",
      "\u001b[1;46mCluster\u001b[0m 226 ['JGI10'] \n",
      "\u001b[1;46mCluster\u001b[0m 227 ['GATS8p'] \n",
      "\u001b[1;46mCluster\u001b[0m 228 ['nHBint10'] \n",
      "\u001b[1;46mCluster\u001b[0m 229 ['ETA_dBeta', 'ETA_dBetaP', 'ETA_BetaP_ns'] \n",
      "\u001b[1;46mCluster\u001b[0m 230 ['ETA_BetaP'] \n",
      "\u001b[1;46mCluster\u001b[0m 231 ['ATSC3i'] \n",
      "\u001b[1;46mCluster\u001b[0m 232 ['LipoaffinityIndex'] \n",
      "\u001b[1;46mCluster\u001b[0m 233 ['MDEN-13'] \n",
      "\u001b[1;46mCluster\u001b[0m 234 ['AATS6s'] \n",
      "\u001b[1;46mCluster\u001b[0m 235 ['GATS2s'] \n",
      "\u001b[1;46mCluster\u001b[0m 236 ['AATSC5s', 'MATS5s', 'ATSC5s'] \n",
      "\u001b[1;46mCluster\u001b[0m 237 ['minHBint9', 'maxHBint9', 'SHBint9'] \n",
      "\u001b[1;46mCluster\u001b[0m 238 ['GATS8s'] \n",
      "\u001b[1;46mCluster\u001b[0m 239 ['AATSC0c'] \n",
      "\u001b[1;46mCluster\u001b[0m 240 ['XLogP'] \n",
      "\u001b[1;46mCluster\u001b[0m 241 ['ETA_Psi_1', 'ETA_dPsi_A'] \n",
      "\u001b[1;46mCluster\u001b[0m 242 ['SwHBa'] \n",
      "\u001b[1;46mCluster\u001b[0m 243 ['SHBa'] \n",
      "\u001b[1;46mCluster\u001b[0m 244 ['ATSC5c'] \n",
      "\u001b[1;46mCluster\u001b[0m 245 ['AATSC5c'] \n",
      "\u001b[1;46mCluster\u001b[0m 246 ['MATS5c'] \n",
      "\u001b[1;46mCluster\u001b[0m 247 ['AATSC5e', 'MATS5e', 'ATSC5e'] \n",
      "\u001b[1;46mCluster\u001b[0m 248 ['ATSC0e', 'AATS2e'] \n",
      "\u001b[1;46mCluster\u001b[0m 249 ['ETA_Epsilon_5'] \n",
      "\u001b[1;46mCluster\u001b[0m 250 ['AATSC0i'] \n",
      "\u001b[1;46mCluster\u001b[0m 251 ['MATS8c', 'AATSC8c'] \n",
      "\u001b[1;46mCluster\u001b[0m 252 ['MDEC-13', 'SsCH3', 'AATS2i', 'MDEC-11', 'SpMin8_Bhs', 'MDEC-12', 'AATSC2v', 'AATSC2p', 'MATS2v', 'MATS2p', 'ATSC2v', 'ATSC2p'] \n",
      "\u001b[1;46mCluster\u001b[0m 253 ['nRotBt'] \n",
      "\u001b[1;46mCluster\u001b[0m 254 ['Mi', 'AATS0i'] \n",
      "\u001b[1;46mCluster\u001b[0m 255 ['AATS6m'] \n",
      "\u001b[1;46mCluster\u001b[0m 256 ['AVP-4'] \n",
      "\u001b[1;46mCluster\u001b[0m 257 ['MATS1i', 'GATS2c', 'ATSC1i', 'AATSC1i'] \n",
      "\u001b[1;46mCluster\u001b[0m 258 ['ATSC3p', 'MATS1p', 'ATSC1p', 'GATS1v', 'AATSC1p', 'RotBFrac'] \n",
      "\u001b[1;46mCluster\u001b[0m 259 ['Kier2', 'GATS2i'] \n",
      "\u001b[1;46mCluster\u001b[0m 260 ['FMF', 'AATSC2i', 'MATS2i', 'ATSC2i', 'MATS1v', 'nsCH3', 'ATSC1v', 'AATSC1v'] \n",
      "\u001b[1;46mCluster\u001b[0m 261 ['GATS1i'] \n",
      "\u001b[1;46mCluster\u001b[0m 262 ['Mv', 'AATS0v', 'AATS1p', 'AATS2p', 'AATS2v', 'AATS1v'] \n",
      "\u001b[1;46mCluster\u001b[0m 263 ['VE1_Dzp'] \n",
      "\u001b[1;46mCluster\u001b[0m 264 ['SpMin8_Bhm', 'GATS5c'] \n",
      "\u001b[1;46mCluster\u001b[0m 265 ['GATS8c'] \n",
      "\u001b[1;46mCluster\u001b[0m 266 ['ATSC4c'] \n",
      "\u001b[1;46mCluster\u001b[0m 267 ['SC-5'] \n",
      "\u001b[1;46mCluster\u001b[0m 268 ['AATS4e'] \n",
      "\u001b[1;46mCluster\u001b[0m 269 ['SpMin2_Bhp'] \n",
      "\u001b[1;46mCluster\u001b[0m 270 ['GGI5'] \n",
      "\u001b[1;46mCluster\u001b[0m 271 ['AATS3s'] \n",
      "\u001b[1;46mCluster\u001b[0m 272 ['minssCH2', 'AVP-3'] \n",
      "\u001b[1;46mCluster\u001b[0m 273 ['AATS4s', 'ETA_EtaP_F'] \n",
      "\u001b[1;46mCluster\u001b[0m 274 ['SpMin2_Bhv'] \n",
      "\u001b[1;46mCluster\u001b[0m 275 ['GATS7m', 'GATS5m'] \n",
      "\u001b[1;46mCluster\u001b[0m 276 ['MATS7m'] \n",
      "\u001b[1;46mCluster\u001b[0m 277 ['GATS7p'] \n",
      "\u001b[1;46mCluster\u001b[0m 278 ['SpMax6_Bhm'] \n",
      "\u001b[1;46mCluster\u001b[0m 279 ['CrippenLogP'] \n",
      "\u001b[1;46mCluster\u001b[0m 280 ['AATS7m'] \n",
      "\u001b[1;46mCluster\u001b[0m 281 ['VC-3'] \n",
      "\u001b[1;46mCluster\u001b[0m 282 ['SC-3', 'ETA_Epsilon_4'] \n",
      "\u001b[1;46mCluster\u001b[0m 283 ['Mpe', 'ETA_Eta_B_RC', 'ETA_Epsilon_1'] \n",
      "\u001b[1;46mCluster\u001b[0m 284 ['ETA_dEpsilon_A', 'AATS3p'] \n",
      "\u001b[1;46mCluster\u001b[0m 285 ['Mse', 'AATS0e'] \n",
      "\u001b[1;46mCluster\u001b[0m 286 ['ETA_dEpsilon_C'] \n",
      "\u001b[1;46mCluster\u001b[0m 287 ['AATS4p', 'AATS3m'] \n",
      "\u001b[1;46mCluster\u001b[0m 288 ['MIC3', 'MIC1', 'MIC2', 'MIC5', 'MIC4'] \n",
      "\u001b[1;46mCluster\u001b[0m 289 ['AATS4m'] \n",
      "\u001b[1;46mCluster\u001b[0m 290 ['GATS6m'] \n",
      "\u001b[1;46mCluster\u001b[0m 291 ['nssO', 'SssO', 'minssO', 'maxssO', 'BCUTc-1l', 'WTPT-4', 'nO', 'MDEO-12'] \n",
      "\u001b[1;46mCluster\u001b[0m 292 ['ATSC0c'] \n",
      "\u001b[1;46mCluster\u001b[0m 293 ['TIC2', 'TIC3', 'TIC4', 'TIC5', 'ATS6i'] \n",
      "\u001b[1;46mCluster\u001b[0m 294 ['SpMin8_Bhp', 'SpMin8_Bhv', 'AATSC2e', 'MATS2e', 'ATSC2e', 'ATS5e', 'ATS5i'] \n",
      "\u001b[1;46mCluster\u001b[0m 295 ['SpMin8_Bhe', 'SpMin8_Bhi'] \n",
      "\u001b[1;46mCluster\u001b[0m 296 ['AATSC2c', 'MATS2c', 'ATSC2c'] \n",
      "\u001b[1;46mCluster\u001b[0m 297 ['bpol', 'ATS6e', 'nRotB', 'SpMin7_Bhm', 'nH'] \n",
      "\u001b[1;46mCluster\u001b[0m 298 ['ETA_dEpsilon_B'] \n",
      "\u001b[1;46mCluster\u001b[0m 299 ['ATS0m', 'SHaaCH', 'SHother'] \n",
      "\u001b[1;46mCluster\u001b[0m 300 ['SaasC'] \n",
      "\u001b[1;46mCluster\u001b[0m 301 ['MIC0', 'maxsCl', 'nCl', 'BCUTw-1h', 'minsCl', 'AATSC0p', 'AATSC0m', 'minHBa', 'AATS0m', 'GATS2m', 'nsCl', 'nX', 'SsCl'] \n",
      "\u001b[1;46mCluster\u001b[0m 302 ['GATS4m'] \n",
      "\u001b[1;46mCluster\u001b[0m 303 ['ATSC0m', 'SM1_Dzm', 'SM1_DzZ', 'SpMin2_Bhm'] \n",
      "\u001b[1;46mCluster\u001b[0m 304 ['IC0'] \n",
      "\u001b[1;46mCluster\u001b[0m 305 ['GATS3m', 'GATS1e'] \n",
      "\u001b[1;46mCluster\u001b[0m 306 ['maxwHBa', 'GATS3p', 'ETA_AlphaP', 'AATSC0v', 'ETA_dAlpha_B'] \n",
      "\u001b[1;46mCluster\u001b[0m 307 ['Mp', 'AATS0p', 'GATS2e', 'GATS1p'] \n",
      "\u001b[1;46mCluster\u001b[0m 308 ['AMW', 'AATS2m', 'AATS1m'] \n",
      "\u001b[1;46mCluster\u001b[0m 309 ['SpMax5_Bhm', 'SpMax2_Bhm', 'GATS1m'] \n",
      "\u001b[1;46mCluster\u001b[0m 310 ['ATS7s', 'ATS1s'] \n",
      "\u001b[1;46mCluster\u001b[0m 311 ['SpMax8_Bhs', 'maxHCsats', 'nHBAcc_Lipinski', 'SM1_Dzv', 'nHBAcc2', 'minHCsats', 'nHBAcc3'] \n",
      "\u001b[1;46mCluster\u001b[0m 312 ['minHother', 'minHaaCH', 'AVP-2', 'maxaaCH', 'maxaasC'] \n",
      "\u001b[1;46mCluster\u001b[0m 313 ['MLFER_BH', 'ATS5s', 'MLFER_BO', 'ATS6s'] \n",
      "\u001b[1;46mCluster\u001b[0m 314 ['MATS4c', 'TIC1', 'SpMAD_Dzp', 'SpMAD_Dzv'] \n",
      "\u001b[1;46mCluster\u001b[0m 315 ['VR2_Dzv', 'VR1_Dzv'] \n",
      "\u001b[1;46mCluster\u001b[0m 316 ['SpMax8_Bhi', 'SpMax8_Bhe'] \n",
      "\u001b[1;46mCluster\u001b[0m 317 ['VR2_Dzp', 'SM1_Dzp', 'SpMin7_Bhv', 'VR1_Dzp'] \n",
      "\u001b[1;46mCluster\u001b[0m 318 ['AATS4i'] \n",
      "\u001b[1;46mCluster\u001b[0m 319 ['SM1_Dzs'] \n",
      "\u001b[1;46mCluster\u001b[0m 320 ['AVP-1'] \n",
      "\u001b[1;46mCluster\u001b[0m 321 ['VR2_D', 'VR1_D'] \n",
      "\u001b[1;46mCluster\u001b[0m 322 ['sumI', 'AATS3i'] \n",
      "\u001b[1;46mCluster\u001b[0m 323 ['VE3_Dzs', 'VE1_Dzs', 'VE2_Dzs'] \n",
      "\u001b[1;46mCluster\u001b[0m 324 ['SpMax6_Bhs'] \n",
      "\u001b[1;46mCluster\u001b[0m 325 ['CrippenMR', 'VP-0'] \n",
      "\u001b[1;46mCluster\u001b[0m 326 ['topoDiameter', 'topoRadius'] \n",
      "\u001b[1;46mCluster\u001b[0m 327 ['SpMAD_D', 'SpMAD_Dze', 'SpMAD_Dzi', 'SpMAD_Dzm', 'SpMAD_DzZ'] \n",
      "\u001b[1;46mCluster\u001b[0m 328 ['ETA_Eta_F_L', 'SpMax6_Bhe', 'ETA_Eta_F'] \n",
      "\u001b[1;46mCluster\u001b[0m 329 ['ATS2s', 'SpMin7_Bhp'] \n",
      "\u001b[1;46mCluster\u001b[0m 330 ['VR3_D'] \n",
      "\u001b[1;46mCluster\u001b[0m 331 ['ZMIC0', 'GATS1c', 'ATS3s'] \n",
      "\u001b[1;46mCluster\u001b[0m 332 ['ATSC0i', 'ATS4s', 'ATS8s'] \n",
      "\u001b[1;46mCluster\u001b[0m 333 ['VABC', 'McGowan_Volume'] \n",
      "\u001b[1;46mCluster\u001b[0m 334 ['SpMax_Dzp', 'SpDiam_Dzp', 'VR3_Dzv', 'EE_Dzp', 'SpAD_Dzp', 'VR3_Dzp', 'SpAbs_Dzp'] \n",
      "\u001b[1;46mCluster\u001b[0m 335 ['EE_DzZ', 'SpDiam_DzZ', 'SpDiam_Dzv', 'ECCEN', 'SpDiam_Dzs', 'SpDiam_Dze', 'SpDiam_Dzm', 'SpDiam_Dzi', 'SpAD_Dzv', 'SpAbs_Dzm', 'EE_Dzi', 'EE_Dzm', 'EE_Dze', 'SpAbs_Dzv', 'EE_Dzs', 'EE_Dzv', 'SpAbs_Dzs', 'SP-0', 'SpAD_DzZ', 'SpAD_Dzm', 'SpAD_Dzi', 'SpAD_Dzs', 'SpDiam_D', 'SpMax_D', 'WPATH', 'SpAD_D', 'SpMax_Dze', 'SpMax_Dzm', 'SpMax_Dzi', 'SpMax_Dzv', 'SpMax_Dzs', 'SpMax_DzZ', 'EE_D', 'SpAbs_DzZ', 'SpAbs_Dze', 'SpAbs_Dzi', 'SpAD_Dze', 'ETA_Eta_R'] \n",
      "\u001b[1;46mCluster\u001b[0m 336 ['BIC0', 'SIC0', 'ETA_EtaP_B_RC'] \n",
      "\u001b[1;46mCluster\u001b[0m 337 ['AATSC3p', 'MATS1m', 'CIC0', 'ATSC1m', 'AATSC1m'] \n",
      "\u001b[1;46mCluster\u001b[0m 338 ['nAtom', 'Spe', 'ATS0e', 'ATS0i', 'Si', 'Sare', 'ATS5p', 'Sse'] \n",
      "\u001b[1;46mCluster\u001b[0m 339 ['ATS7i', 'ATS7e', 'ATSC0v', 'nBonds2', 'ATS8i', 'ATS8e', 'nBondsS2', 'ATS1i', 'ATS1e', 'ATS2i', 'ATS5v', 'nBondsS'] \n",
      "\u001b[1;46mCluster\u001b[0m 340 ['MATS3c', 'MATS1c'] \n",
      "\u001b[1;46mCluster\u001b[0m 341 ['AATSC4c'] \n",
      "\u001b[1;46mCluster\u001b[0m 342 ['MATS7s'] \n",
      "\u001b[1;46mCluster\u001b[0m 343 ['SpMax6_Bhi'] \n",
      "\u001b[1;46mCluster\u001b[0m 344 ['MATS7c', 'SpMax7_Bhe', 'SpMax7_Bhi'] \n",
      "\u001b[1;46mCluster\u001b[0m 345 ['SpMAD_Dzs'] \n",
      "\u001b[1;46mCluster\u001b[0m 346 ['Kier1'] \n",
      "\u001b[1;46mCluster\u001b[0m 347 ['AMR'] \n",
      "\u001b[1;46mCluster\u001b[0m 348 ['MATS4e'] \n",
      "\u001b[1;46mCluster\u001b[0m 349 ['TIC0']\n"
     ]
    }
   ],
   "source": [
    "clust = cl.FeatureCluster(X_data, 'average', 3)\n",
    "clust_info = clust.set_cluster()"
   ]
  },
  {
   "cell_type": "code",
   "execution_count": 18,
   "metadata": {},
   "outputs": [
    {
     "data": {
      "image/png": "[encoded data removed]",
      "text/plain": [
       "<Figure size 432x288 with 1 Axes>"
      ]
     },
     "metadata": {
      "needs_background": "light"
     },
     "output_type": "display_data"
    }
   ],
   "source": [
    "clust.cluster_dist()"
   ]
  },
  {
   "cell_type": "code",
   "execution_count": 19,
   "metadata": {},
   "outputs": [
    {
     "name": "stdout",
     "output_type": "stream",
     "text": [
      "Start time :  11:15:06\n",
      "\u001b[1;42mRegression\u001b[0m\n",
      "1000 => 11:19:51 [0.9304705462816968, ['AATS6i', 'SpMax6_Bhp', 'SpMin7_Bhi', 'VR3_Dzp']]\n",
      "2000 => 11:24:45 [0.9304705462816968, ['AATS6i', 'SpMax6_Bhp', 'SpMin7_Bhi', 'VR3_Dzp']]\n",
      "3000 => 11:29:42 [0.9304705462816968, ['AATS6i', 'SpMax6_Bhp', 'SpMin7_Bhi', 'VR3_Dzp']]\n",
      "4000 => 11:34:31 [0.9304705462816968, ['AATS6i', 'SpMax6_Bhp', 'SpMin7_Bhi', 'VR3_Dzp']]\n",
      "5000 => 11:39:19 [0.9304705462816968, ['AATS6i', 'SpMax6_Bhp', 'SpMin7_Bhi', 'VR3_Dzp']]\n",
      "6000 => 11:44:21 [0.9304705462816968, ['AATS6i', 'SpMax6_Bhp', 'SpMin7_Bhi', 'VR3_Dzp']]\n",
      "7000 => 11:49:08 [0.9304705462816968, ['AATS6i', 'SpMax6_Bhp', 'SpMin7_Bhi', 'VR3_Dzp']]\n",
      "8000 => 11:53:53 [0.9304705462816968, ['AATS6i', 'SpMax6_Bhp', 'SpMin7_Bhi', 'VR3_Dzp']]\n",
      "9000 => 11:58:31 [0.9304705462816968, ['AATS6i', 'SpMax6_Bhp', 'SpMin7_Bhi', 'VR3_Dzp']]\n",
      "10000 => 12:03:22 [0.9304705462816968, ['AATS6i', 'SpMax6_Bhp', 'SpMin7_Bhi', 'VR3_Dzp']]\n",
      "[0.9304705462816968, ['AATS6i', 'SpMax6_Bhp', 'SpMin7_Bhi', 'VR3_Dzp']]\n",
      "Model's cluster info [88, 184, 175, 334]\n",
      "Finish time :  12:03:22\n"
     ]
    }
   ],
   "source": [
    "from pyqsar import feature_selection_single as fss\n",
    "select = fss.selection(X_data, y_data,\n",
    "                       clust_info,\n",
    "                       model='regression',\n",
    "                       learning=10000,\n",
    "                       bank=200,\n",
    "                       component=4)"
   ]
  },
  {
   "cell_type": "code",
   "execution_count": 20,
   "metadata": {},
   "outputs": [
    {
     "data": {
      "text/plain": [
       "['AATS6i', 'SpMax6_Bhp', 'SpMin7_Bhi', 'VR3_Dzp']"
      ]
     },
     "execution_count": 20,
     "metadata": {},
     "output_type": "execute_result"
    }
   ],
   "source": [
    "select"
   ]
  },
  {
   "cell_type": "code",
   "execution_count": 21,
   "metadata": {},
   "outputs": [],
   "source": [
    "from pyqsar import export_model as em\n",
    "feature_set = select\n",
    "mymodel = em.ModelExport(X_data,y_data, feature_set)"
   ]
  },
  {
   "cell_type": "code",
   "execution_count": 22,
   "metadata": {
    "scrolled": true
   },
   "outputs": [
    {
     "data": {
      "text/html": [
       "<div>\n",
       "<style scoped>\n",
       "    .dataframe tbody tr th:only-of-type {\n",
       "        vertical-align: middle;\n",
       "    }\n",
       "\n",
       "    .dataframe tbody tr th {\n",
       "        vertical-align: top;\n",
       "    }\n",
       "\n",
       "    .dataframe thead th {\n",
       "        text-align: right;\n",
       "    }\n",
       "</style>\n",
       "<table border=\"1\" class=\"dataframe\">\n",
       "  <thead>\n",
       "    <tr style=\"text-align: right;\">\n",
       "      <th></th>\n",
       "      <th>AATS6i</th>\n",
       "      <th>SpMax6_Bhp</th>\n",
       "      <th>SpMin7_Bhi</th>\n",
       "      <th>VR3_Dzp</th>\n",
       "      <th>IC50</th>\n",
       "    </tr>\n",
       "  </thead>\n",
       "  <tbody>\n",
       "    <tr>\n",
       "      <th>0</th>\n",
       "      <td>0.370753</td>\n",
       "      <td>0.000000</td>\n",
       "      <td>0.173147</td>\n",
       "      <td>0.177169</td>\n",
       "      <td>74.90</td>\n",
       "    </tr>\n",
       "    <tr>\n",
       "      <th>1</th>\n",
       "      <td>0.348600</td>\n",
       "      <td>0.183773</td>\n",
       "      <td>0.214953</td>\n",
       "      <td>0.348547</td>\n",
       "      <td>40.80</td>\n",
       "    </tr>\n",
       "    <tr>\n",
       "      <th>2</th>\n",
       "      <td>0.329703</td>\n",
       "      <td>0.375593</td>\n",
       "      <td>0.263279</td>\n",
       "      <td>0.361506</td>\n",
       "      <td>17.40</td>\n",
       "    </tr>\n",
       "    <tr>\n",
       "      <th>3</th>\n",
       "      <td>0.432516</td>\n",
       "      <td>0.249023</td>\n",
       "      <td>0.423610</td>\n",
       "      <td>0.893979</td>\n",
       "      <td>46.10</td>\n",
       "    </tr>\n",
       "    <tr>\n",
       "      <th>4</th>\n",
       "      <td>0.541402</td>\n",
       "      <td>0.428185</td>\n",
       "      <td>0.589001</td>\n",
       "      <td>1.000000</td>\n",
       "      <td>33.80</td>\n",
       "    </tr>\n",
       "    <tr>\n",
       "      <th>5</th>\n",
       "      <td>0.552428</td>\n",
       "      <td>0.913472</td>\n",
       "      <td>0.747400</td>\n",
       "      <td>0.635793</td>\n",
       "      <td>7.67</td>\n",
       "    </tr>\n",
       "    <tr>\n",
       "      <th>6</th>\n",
       "      <td>0.228331</td>\n",
       "      <td>1.000000</td>\n",
       "      <td>1.000000</td>\n",
       "      <td>0.738969</td>\n",
       "      <td>15.30</td>\n",
       "    </tr>\n",
       "    <tr>\n",
       "      <th>7</th>\n",
       "      <td>0.000000</td>\n",
       "      <td>0.361223</td>\n",
       "      <td>0.259283</td>\n",
       "      <td>0.283910</td>\n",
       "      <td>3.85</td>\n",
       "    </tr>\n",
       "    <tr>\n",
       "      <th>8</th>\n",
       "      <td>0.860536</td>\n",
       "      <td>0.320981</td>\n",
       "      <td>0.000000</td>\n",
       "      <td>0.000000</td>\n",
       "      <td>10.60</td>\n",
       "    </tr>\n",
       "    <tr>\n",
       "      <th>9</th>\n",
       "      <td>0.838663</td>\n",
       "      <td>0.410667</td>\n",
       "      <td>0.035033</td>\n",
       "      <td>0.168171</td>\n",
       "      <td>1.12</td>\n",
       "    </tr>\n",
       "    <tr>\n",
       "      <th>10</th>\n",
       "      <td>0.820006</td>\n",
       "      <td>0.491628</td>\n",
       "      <td>0.076747</td>\n",
       "      <td>0.181349</td>\n",
       "      <td>5.67</td>\n",
       "    </tr>\n",
       "    <tr>\n",
       "      <th>11</th>\n",
       "      <td>0.884342</td>\n",
       "      <td>0.426040</td>\n",
       "      <td>0.232538</td>\n",
       "      <td>0.833542</td>\n",
       "      <td>3.36</td>\n",
       "    </tr>\n",
       "    <tr>\n",
       "      <th>12</th>\n",
       "      <td>1.000000</td>\n",
       "      <td>0.506114</td>\n",
       "      <td>0.339631</td>\n",
       "      <td>0.715296</td>\n",
       "      <td>27.60</td>\n",
       "    </tr>\n",
       "    <tr>\n",
       "      <th>13</th>\n",
       "      <td>0.555309</td>\n",
       "      <td>0.409707</td>\n",
       "      <td>0.033537</td>\n",
       "      <td>0.078390</td>\n",
       "      <td>1.28</td>\n",
       "    </tr>\n",
       "    <tr>\n",
       "      <th>14</th>\n",
       "      <td>0.838663</td>\n",
       "      <td>0.410667</td>\n",
       "      <td>0.035033</td>\n",
       "      <td>0.168171</td>\n",
       "      <td>3.13</td>\n",
       "    </tr>\n",
       "    <tr>\n",
       "      <th>15</th>\n",
       "      <td>0.820006</td>\n",
       "      <td>0.491628</td>\n",
       "      <td>0.076747</td>\n",
       "      <td>0.181349</td>\n",
       "      <td>0.13</td>\n",
       "    </tr>\n",
       "    <tr>\n",
       "      <th>16</th>\n",
       "      <td>0.884342</td>\n",
       "      <td>0.426040</td>\n",
       "      <td>0.232538</td>\n",
       "      <td>0.833542</td>\n",
       "      <td>12.90</td>\n",
       "    </tr>\n",
       "    <tr>\n",
       "      <th>17</th>\n",
       "      <td>1.000000</td>\n",
       "      <td>0.506114</td>\n",
       "      <td>0.339631</td>\n",
       "      <td>0.715296</td>\n",
       "      <td>23.80</td>\n",
       "    </tr>\n",
       "    <tr>\n",
       "      <th>18</th>\n",
       "      <td>0.716825</td>\n",
       "      <td>0.690328</td>\n",
       "      <td>0.448551</td>\n",
       "      <td>0.600968</td>\n",
       "      <td>1.93</td>\n",
       "    </tr>\n",
       "    <tr>\n",
       "      <th>19</th>\n",
       "      <td>0.555309</td>\n",
       "      <td>0.409707</td>\n",
       "      <td>0.033537</td>\n",
       "      <td>0.078390</td>\n",
       "      <td>6.87</td>\n",
       "    </tr>\n",
       "    <tr>\n",
       "      <th>20</th>\n",
       "      <td>0.627602</td>\n",
       "      <td>0.425668</td>\n",
       "      <td>0.232388</td>\n",
       "      <td>0.344719</td>\n",
       "      <td>17.20</td>\n",
       "    </tr>\n",
       "  </tbody>\n",
       "</table>\n",
       "</div>"
      ],
      "text/plain": [
       "      AATS6i  SpMax6_Bhp  SpMin7_Bhi   VR3_Dzp   IC50\n",
       "0   0.370753    0.000000    0.173147  0.177169  74.90\n",
       "1   0.348600    0.183773    0.214953  0.348547  40.80\n",
       "2   0.329703    0.375593    0.263279  0.361506  17.40\n",
       "3   0.432516    0.249023    0.423610  0.893979  46.10\n",
       "4   0.541402    0.428185    0.589001  1.000000  33.80\n",
       "5   0.552428    0.913472    0.747400  0.635793   7.67\n",
       "6   0.228331    1.000000    1.000000  0.738969  15.30\n",
       "7   0.000000    0.361223    0.259283  0.283910   3.85\n",
       "8   0.860536    0.320981    0.000000  0.000000  10.60\n",
       "9   0.838663    0.410667    0.035033  0.168171   1.12\n",
       "10  0.820006    0.491628    0.076747  0.181349   5.67\n",
       "11  0.884342    0.426040    0.232538  0.833542   3.36\n",
       "12  1.000000    0.506114    0.339631  0.715296  27.60\n",
       "13  0.555309    0.409707    0.033537  0.078390   1.28\n",
       "14  0.838663    0.410667    0.035033  0.168171   3.13\n",
       "15  0.820006    0.491628    0.076747  0.181349   0.13\n",
       "16  0.884342    0.426040    0.232538  0.833542  12.90\n",
       "17  1.000000    0.506114    0.339631  0.715296  23.80\n",
       "18  0.716825    0.690328    0.448551  0.600968   1.93\n",
       "19  0.555309    0.409707    0.033537  0.078390   6.87\n",
       "20  0.627602    0.425668    0.232388  0.344719  17.20"
      ]
     },
     "execution_count": 22,
     "metadata": {},
     "output_type": "execute_result"
    }
   ],
   "source": [
    "mymodel.features_table()"
   ]
  },
  {
   "cell_type": "code",
   "execution_count": 23,
   "metadata": {},
   "outputs": [
    {
     "data": {
      "text/html": [
       "<div>\n",
       "<style scoped>\n",
       "    .dataframe tbody tr th:only-of-type {\n",
       "        vertical-align: middle;\n",
       "    }\n",
       "\n",
       "    .dataframe tbody tr th {\n",
       "        vertical-align: top;\n",
       "    }\n",
       "\n",
       "    .dataframe thead th {\n",
       "        text-align: right;\n",
       "    }\n",
       "</style>\n",
       "<table border=\"1\" class=\"dataframe\">\n",
       "  <thead>\n",
       "    <tr style=\"text-align: right;\">\n",
       "      <th></th>\n",
       "      <th>AATS6i</th>\n",
       "      <th>SpMax6_Bhp</th>\n",
       "      <th>SpMin7_Bhi</th>\n",
       "      <th>VR3_Dzp</th>\n",
       "      <th>IC50</th>\n",
       "    </tr>\n",
       "  </thead>\n",
       "  <tbody>\n",
       "    <tr>\n",
       "      <th>AATS6i</th>\n",
       "      <td>1.000000</td>\n",
       "      <td>0.068331</td>\n",
       "      <td>-0.350959</td>\n",
       "      <td>0.058446</td>\n",
       "      <td>-0.290200</td>\n",
       "    </tr>\n",
       "    <tr>\n",
       "      <th>SpMax6_Bhp</th>\n",
       "      <td>0.068331</td>\n",
       "      <td>1.000000</td>\n",
       "      <td>0.679891</td>\n",
       "      <td>0.331807</td>\n",
       "      <td>-0.526479</td>\n",
       "    </tr>\n",
       "    <tr>\n",
       "      <th>SpMin7_Bhi</th>\n",
       "      <td>-0.350959</td>\n",
       "      <td>0.679891</td>\n",
       "      <td>1.000000</td>\n",
       "      <td>0.712193</td>\n",
       "      <td>0.173595</td>\n",
       "    </tr>\n",
       "    <tr>\n",
       "      <th>VR3_Dzp</th>\n",
       "      <td>0.058446</td>\n",
       "      <td>0.331807</td>\n",
       "      <td>0.712193</td>\n",
       "      <td>1.000000</td>\n",
       "      <td>0.233439</td>\n",
       "    </tr>\n",
       "    <tr>\n",
       "      <th>IC50</th>\n",
       "      <td>-0.290200</td>\n",
       "      <td>-0.526479</td>\n",
       "      <td>0.173595</td>\n",
       "      <td>0.233439</td>\n",
       "      <td>1.000000</td>\n",
       "    </tr>\n",
       "  </tbody>\n",
       "</table>\n",
       "</div>"
      ],
      "text/plain": [
       "              AATS6i  SpMax6_Bhp  SpMin7_Bhi   VR3_Dzp      IC50\n",
       "AATS6i      1.000000    0.068331   -0.350959  0.058446 -0.290200\n",
       "SpMax6_Bhp  0.068331    1.000000    0.679891  0.331807 -0.526479\n",
       "SpMin7_Bhi -0.350959    0.679891    1.000000  0.712193  0.173595\n",
       "VR3_Dzp     0.058446    0.331807    0.712193  1.000000  0.233439\n",
       "IC50       -0.290200   -0.526479    0.173595  0.233439  1.000000"
      ]
     },
     "execution_count": 23,
     "metadata": {},
     "output_type": "execute_result"
    },
    {
     "data": {
      "image/png": "[encoded data removed]",
      "text/plain": [
       "<Figure size 432x288 with 25 Axes>"
      ]
     },
     "metadata": {
      "needs_background": "light"
     },
     "output_type": "display_data"
    }
   ],
   "source": [
    "mymodel.model_corr()"
   ]
  },
  {
   "cell_type": "code",
   "execution_count": 24,
   "metadata": {},
   "outputs": [
    {
     "name": "stdout",
     "output_type": "stream",
     "text": [
      "Model features:  ['AATS6i', 'SpMax6_Bhp', 'SpMin7_Bhi', 'VR3_Dzp']\n",
      "Coefficients:  [[  39.77292136 -149.69128095  148.56191871  -39.91760017]]\n",
      "Intercept:  [35.99488345]\n",
      "RMSE: 4.864693\n",
      "R^2: 0.930471\n"
     ]
    },
    {
     "name": "stderr",
     "output_type": "stream",
     "text": [
      "C:\\Users\\CBBL\\Anaconda2\\lib\\site-packages\\pyqsar\\export_model.py:97: FutureWarning: Method .as_matrix will be removed in a future version. Use .values instead.\n",
      "  x = self.X_data.loc[:,self.feature_set].as_matrix()\n",
      "C:\\Users\\CBBL\\Anaconda2\\lib\\site-packages\\pyqsar\\export_model.py:98: FutureWarning: Method .as_matrix will be removed in a future version. Use .values instead.\n",
      "  y = self.y_data.as_matrix()\n"
     ]
    }
   ],
   "source": [
    "mymodel.mlr()"
   ]
  },
  {
   "cell_type": "code",
   "execution_count": 26,
   "metadata": {},
   "outputs": [
    {
     "data": {
      "image/png": "[encoded data removed]",
      "text/plain": [
       "<Figure size 432x288 with 1 Axes>"
      ]
     },
     "metadata": {
      "needs_background": "light"
     },
     "output_type": "display_data"
    }
   ],
   "source": [
    "mymodel.train_plot()"
   ]
  },
  {
   "cell_type": "code",
   "execution_count": 27,
   "metadata": {},
   "outputs": [
    {
     "name": "stderr",
     "output_type": "stream",
     "text": [
      "C:\\Users\\CBBL\\Anaconda2\\lib\\site-packages\\pyqsar\\cross_validation.py:35: FutureWarning: Method .as_matrix will be removed in a future version. Use .values instead.\n",
      "  x = X_data.loc[:,feature_set].as_matrix()\n",
      "C:\\Users\\CBBL\\Anaconda2\\lib\\site-packages\\pyqsar\\cross_validation.py:36: FutureWarning: Method .as_matrix will be removed in a future version. Use .values instead.\n",
      "  y =y_data.as_matrix()\n"
     ]
    },
    {
     "name": "stdout",
     "output_type": "stream",
     "text": [
      "R^2CV mean: 0.931113\n",
      "Q^2CV mean: 0.830489\n",
      "RMSE CV : 6.19646\n",
      "Features set = ['AATS6i', 'SpMax6_Bhp', 'SpMin7_Bhi', 'VR3_Dzp']\n",
      "Model coeff =  [[  39.40732317 -148.89458886  146.8241821   -38.49411674]]\n",
      "Model intercept =  [35.74311833]\n"
     ]
    },
    {
     "data": {
      "image/png": "[encoded data removed]",
      "text/plain": [
       "<Figure size 432x288 with 1 Axes>"
      ]
     },
     "metadata": {
      "needs_background": "light"
     },
     "output_type": "display_data"
    }
   ],
   "source": [
    "from pyqsar import cross_validation as cv\n",
    "cv.k_fold(X_data, y_data, feature_set, k=5, run=100)"
   ]
  },
  {
   "cell_type": "code",
   "execution_count": null,
   "metadata": {},
   "outputs": [],
   "source": []
  }
 ],
 "metadata": {
  "kernelspec": {
   "display_name": "Python 2",
   "language": "python",
   "name": "python2"
  },
  "language_info": {
   "codemirror_mode": {
    "name": "ipython",
    "version": 2
   },
   "file_extension": ".py",
   "mimetype": "text/x-python",
   "name": "python",
   "nbconvert_exporter": "python",
   "pygments_lexer": "ipython2",
   "version": "2.7.16"
  }
 },
 "nbformat": 4,
 "nbformat_minor": 2
}
